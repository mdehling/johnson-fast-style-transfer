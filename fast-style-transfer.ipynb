{
 "cells": [
  {
   "cell_type": "code",
   "execution_count": null,
   "metadata": {},
   "outputs": [],
   "source": [
    "from os import environ as env\n",
    "env['TF_CPP_MIN_LOG_LEVEL'] = '2'               # hide info & warnings\n",
    "env['TF_FORCE_GPU_ALLOW_GROWTH'] = 'true'       # grow GPU memory as needed\n",
    "\n",
    "import tensorflow as tf\n",
    "import nstesia as nst"
   ]
  },
  {
   "cell_type": "code",
   "execution_count": null,
   "metadata": {},
   "outputs": [],
   "source": [
    "def load_style_models(styles):\n",
    "    return [\n",
    "        nst.johnson_2016.StyleTransferModel.from_saved(f'saved/{style}')\n",
    "        for style in styles\n",
    "    ]"
   ]
  },
  {
   "cell_type": "code",
   "execution_count": null,
   "metadata": {},
   "outputs": [],
   "source": [
    "def content_style_grid(image_files, styles):\n",
    "    content_images = [ nst.io.load_image(file) for file in image_files ]\n",
    "    style_models = load_style_models(styles)\n",
    "\n",
    "    images = [None] + [model.style_image for model in style_models]\n",
    "    for content_image in content_images:\n",
    "        images += [content_image] + [\n",
    "            model(content_image) for model in style_models\n",
    "        ]\n",
    "\n",
    "    grid_image = nst.image.grid(images, ncols=len(styles)+1)\n",
    "    return tf.keras.utils.array_to_img(tf.squeeze(grid_image,axis=0))"
   ]
  },
  {
   "cell_type": "code",
   "execution_count": null,
   "metadata": {},
   "outputs": [],
   "source": [
    "content_style_grid(\n",
    "    ['img/content/sunflower.jpg', 'img/content/bochum.jpg'],\n",
    "    styles=['candy', 'cubism', 'udnie'],\n",
    ")"
   ]
  },
  {
   "cell_type": "code",
   "execution_count": null,
   "metadata": {},
   "outputs": [],
   "source": [
    "content_style_grid(\n",
    "    ['img/content/brad.jpg', 'img/content/karya.jpg'],\n",
    "    styles=['bathing', 'delaunay', 'scream'],\n",
    ")"
   ]
  },
  {
   "cell_type": "code",
   "execution_count": null,
   "metadata": {},
   "outputs": [],
   "source": [
    "content_image = nst.io.load_image('img/content/chicago.jpg')\n",
    "style_models = load_style_models(['candy', 'candy-bn'])\n",
    "\n",
    "grid_image = nst.image.grid([model(content_image) for model in style_models])\n",
    "tf.keras.utils.array_to_img(tf.squeeze(grid_image,axis=0))"
   ]
  }
 ],
 "metadata": {
  "kernelspec": {
   "display_name": "Python 3.7.10 ('base')",
   "language": "python",
   "name": "python3"
  },
  "language_info": {
   "codemirror_mode": {
    "name": "ipython",
    "version": 3
   },
   "file_extension": ".py",
   "mimetype": "text/x-python",
   "name": "python",
   "nbconvert_exporter": "python",
   "pygments_lexer": "ipython3",
   "version": "3.7.13"
  },
  "orig_nbformat": 4,
  "vscode": {
   "interpreter": {
    "hash": "d4d1e4263499bec80672ea0156c357c1ee493ec2b1c70f0acce89fc37c4a6abe"
   }
  }
 },
 "nbformat": 4,
 "nbformat_minor": 2
}
