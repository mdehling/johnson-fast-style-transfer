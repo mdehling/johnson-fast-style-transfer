{
 "cells": [
  {
   "cell_type": "code",
   "execution_count": null,
   "metadata": {},
   "outputs": [],
   "source": [
    "from os import environ as env\n",
    "env['TF_CPP_MIN_LOG_LEVEL'] = '2'               # hide info & warnings\n",
    "env['TF_FORCE_GPU_ALLOW_GROWTH'] = 'true'       # grow GPU memory as needed\n",
    "\n",
    "import tensorflow as tf\n",
    "import tensorflow_datasets as tfds\n",
    "\n",
    "import nstesia as nst\n",
    "from nstesia.io import load_image\n",
    "from nstesia.johnson_2016 import StyleTransferModel"
   ]
  },
  {
   "cell_type": "code",
   "execution_count": null,
   "metadata": {},
   "outputs": [],
   "source": [
    "saved_styles = [ 'saved/candy', 'saved/cubism',\n",
    "                 'saved/delaunay', 'saved/scream', 'saved/starry-night' ]\n",
    "style_transfer_models = [ StyleTransferModel.from_saved(saved_style)\n",
    "                          for saved_style in saved_styles ]\n",
    "\n",
    "def content_in_styles(content_image_file, target_size=None):\n",
    "    content_image = load_image(content_image_file, target_size=target_size)\n",
    "    pastiche_images = [ transfer_model(content_image)\n",
    "                        for transfer_model in style_transfer_models ]\n",
    "\n",
    "    grid_image = nst.image.grid([content_image] + pastiche_images)\n",
    "    return tf.keras.utils.array_to_img(tf.squeeze(grid_image,axis=0))"
   ]
  },
  {
   "cell_type": "code",
   "execution_count": null,
   "metadata": {},
   "outputs": [],
   "source": [
    "content_in_styles('img/content/sunflower.jpg')"
   ]
  }
 ],
 "metadata": {
  "kernelspec": {
   "display_name": "Python 3.7.10 ('base')",
   "language": "python",
   "name": "python3"
  },
  "language_info": {
   "codemirror_mode": {
    "name": "ipython",
    "version": 3
   },
   "file_extension": ".py",
   "mimetype": "text/x-python",
   "name": "python",
   "nbconvert_exporter": "python",
   "pygments_lexer": "ipython3",
   "version": "3.7.10"
  },
  "orig_nbformat": 4,
  "vscode": {
   "interpreter": {
    "hash": "d4d1e4263499bec80672ea0156c357c1ee493ec2b1c70f0acce89fc37c4a6abe"
   }
  }
 },
 "nbformat": 4,
 "nbformat_minor": 2
}
