{
 "cells": [
  {
   "cell_type": "markdown",
   "metadata": {
    "id": "Rtx2WRfM7jc0"
   },
   "source": [
    "# Fast Style Transfer\n",
    "[![Open In Colab](https://colab.research.google.com/assets/colab-badge.svg)](https://colab.research.google.com/github/mdehling/johnson-fast-style-transfer/blob/main/fast-style-transfer.ipynb)\n",
    "\n",
    "This notebook lets you try out image stylization using the approach described\n",
    "by Johnson, Alahi, and Fei-Fei in their article _Perceptual Losses for\n",
    "Real-Time Style Transfer and Super-Resolution_.  For more details, see my\n",
    "github repositories [`johnson-fast-style-transfer`](\n",
    "https://github.com/mdehling/johnson-fast-style-transfer) and\n",
    "[`nstesia`](https://github.com/mdehling/nstesia)."
   ]
  },
  {
   "cell_type": "code",
   "execution_count": null,
   "metadata": {
    "id": "JyyJROpr7jc4"
   },
   "outputs": [],
   "source": [
    "# At the time of writing, the versions of pip and setuptools provided by colab\n",
    "# do not have full `pyproject.toml` support --- they must be updated before\n",
    "# installing the nstesia package.  This cell will do just that.\n",
    "#\n",
    "# Once this cell has finished running, YOU MUST RESTART THE COLAB RUNTIME.\n",
    "try:\n",
    "    from google import colab\n",
    "\n",
    "    # Pull everything else from the repository in to the Colab environment.\n",
    "    !git init .\n",
    "    !git remote add origin https://github.com/mdehling/johnson-fast-style-transfer.git\n",
    "    !git pull --depth=1 origin main\n",
    "\n",
    "    # These are just to avoid some scary-looking (but harmless) error messages.\n",
    "    !pip uninstall -q -y numba\n",
    "    !pip install -q 'jedi>=0.10'\n",
    "\n",
    "    # Minimum versions required for PEP-660 support.\n",
    "    !pip install -q 'pip>=21.3' 'setuptools>=64'\n",
    "\n",
    "    # Finally install the one we came for.\n",
    "    !pip install -q -r requirements.txt\n",
    "\n",
    "except ImportError:\n",
    "    pass"
   ]
  },
  {
   "cell_type": "code",
   "execution_count": null,
   "metadata": {
    "id": "yExcwRKS7jc7"
   },
   "outputs": [],
   "source": [
    "try:\n",
    "    from google import colab\n",
    "    RUNNING_ON_COLAB = True\n",
    "\n",
    "except ImportError:\n",
    "    RUNNING_ON_COLAB = False\n",
    "\n",
    "    from os import environ as env\n",
    "    env['TF_CPP_MIN_LOG_LEVEL'] = '2'               # hide info & warnings\n",
    "    env['TF_FORCE_GPU_ALLOW_GROWTH'] = 'true'       # grow GPU memory as needed\n",
    "\n",
    "try:\n",
    "    import tensorflow as tf\n",
    "    import nstesia as nst\n",
    "\n",
    "except ImportError as e:\n",
    "    if RUNNING_ON_COLAB:\n",
    "        raise ImportError(\"Please restart your Colab runtime!\")\n",
    "    else:\n",
    "        raise e"
   ]
  },
  {
   "cell_type": "markdown",
   "metadata": {
    "id": "6uJnxyg5EM7X"
   },
   "source": [
    "## Simple Image Stylization"
   ]
  },
  {
   "cell_type": "code",
   "execution_count": null,
   "metadata": {
    "id": "fyiZUCY8EqyP"
   },
   "outputs": [],
   "source": [
    "model = nst.johnson_2016.StyleTransferModel.from_saved('saved/delaunay')\n",
    "content_image = nst.io.load_image('img/content/stanford.jpg')\n",
    "\n",
    "pastiche_image = model(content_image)\n",
    "tf.keras.utils.array_to_img(tf.squeeze(pastiche_image,axis=0))"
   ]
  },
  {
   "cell_type": "markdown",
   "metadata": {
    "id": "CNLVLhuiBekU"
   },
   "source": [
    "## Instance vs Batch Normalization"
   ]
  },
  {
   "cell_type": "code",
   "execution_count": null,
   "metadata": {
    "id": "jXRhXYWQ7jc9"
   },
   "outputs": [],
   "source": [
    "def load_style_models(styles):\n",
    "    \"\"\"\n",
    "    Load style transfer models from the `saved` directory.\n",
    "\n",
    "    Args:\n",
    "        styles:\n",
    "            A list of strings.  The names of directories under `saved/`\n",
    "            containing the desired saved models in 'tf' format.\n",
    "\n",
    "    Returns:\n",
    "        A list of `nstesia.johnson_2016.StyleTransferModel` instances.\n",
    "    \"\"\"\n",
    "    return [\n",
    "        nst.johnson_2016.StyleTransferModel.from_saved(f'saved/{style}')\n",
    "        for style in styles\n",
    "    ]"
   ]
  },
  {
   "cell_type": "code",
   "execution_count": null,
   "metadata": {
    "id": "aAYcIv607jdB"
   },
   "outputs": [],
   "source": [
    "# img/results/instance-vs-batch-norm.png\n",
    "content_image = nst.io.load_image('img/content/chicago.jpg')\n",
    "style_models = load_style_models(['candy', 'candy-bn'])\n",
    "\n",
    "grid_image = nst.image.grid([model(content_image) for model in style_models])\n",
    "tf.keras.utils.array_to_img(tf.squeeze(grid_image,axis=0))"
   ]
  },
  {
   "cell_type": "markdown",
   "metadata": {
    "id": "81GXnrl_DmCR"
   },
   "source": [
    "## Content-Style Grids"
   ]
  },
  {
   "cell_type": "code",
   "execution_count": null,
   "metadata": {
    "id": "FCPRQiuW7jc-"
   },
   "outputs": [],
   "source": [
    "def content_style_grid(image_files, styles):\n",
    "    \"\"\"\n",
    "    Show a grid of stylizations with content images as rows, styles as columns.\n",
    "\n",
    "    Args:\n",
    "        images_files:\n",
    "            A list of strings.  The file names of the content images to load.\n",
    "        styles:\n",
    "            A list of strings.  The names of styles to be loaded from disk.\n",
    "\n",
    "    Returns:\n",
    "        An image representing the grid of stylizations.\n",
    "    \"\"\"\n",
    "    content_images = [ nst.io.load_image(file) for file in image_files ]\n",
    "    style_models = load_style_models(styles)\n",
    "\n",
    "    images = [None] + [model.style_image for model in style_models]\n",
    "    for content_image in content_images:\n",
    "        images += [content_image] + [\n",
    "            model(content_image) for model in style_models\n",
    "        ]\n",
    "\n",
    "    grid_image = nst.image.grid(images, ncols=len(styles)+1)\n",
    "    return tf.keras.utils.array_to_img(tf.squeeze(grid_image,axis=0))"
   ]
  },
  {
   "cell_type": "code",
   "execution_count": null,
   "metadata": {
    "id": "LtQrk1Px7jc-"
   },
   "outputs": [],
   "source": [
    "# img/results/content-style-matrix-1.png\n",
    "content_style_grid(\n",
    "    ['img/content/sunflower.jpg', 'img/content/bochum.jpg'],\n",
    "    styles=['candy', 'cubism', 'udnie'],\n",
    ")"
   ]
  },
  {
   "cell_type": "code",
   "execution_count": null,
   "metadata": {
    "id": "1a-2BVdD7jc_"
   },
   "outputs": [],
   "source": [
    "# img/results/content-style-matrix-2.png\n",
    "content_style_grid(\n",
    "    ['img/content/brad.jpg', 'img/content/karya.jpg'],\n",
    "    styles=['bathing', 'delaunay', 'scream'],\n",
    ")"
   ]
  }
 ],
 "metadata": {
  "colab": {
   "provenance": []
  },
  "gpuClass": "standard",
  "kernelspec": {
   "display_name": "Python 3.7.10 ('base')",
   "language": "python",
   "name": "python3"
  },
  "language_info": {
   "codemirror_mode": {
    "name": "ipython",
    "version": 3
   },
   "file_extension": ".py",
   "mimetype": "text/x-python",
   "name": "python",
   "nbconvert_exporter": "python",
   "pygments_lexer": "ipython3",
   "version": "3.7.13"
  },
  "vscode": {
   "interpreter": {
    "hash": "d4d1e4263499bec80672ea0156c357c1ee493ec2b1c70f0acce89fc37c4a6abe"
   }
  }
 },
 "nbformat": 4,
 "nbformat_minor": 0
}
